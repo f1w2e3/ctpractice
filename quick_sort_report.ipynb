{
  "nbformat": 4,
  "nbformat_minor": 5,
  "metadata": {
    "colab": {
      "provenance": [],
      "include_colab_link": true
    },
    "language_info": {
      "name": "python"
    },
    "kernelspec": {
      "name": "python3",
      "display_name": "Python 3"
    }
  },
  "cells": [
    {
      "cell_type": "markdown",
      "metadata": {
        "id": "view-in-github",
        "colab_type": "text"
      },
      "source": [
        "<a href=\"https://colab.research.google.com/github/f1w2e3/ctpractice/blob/main/quick_sort_report.ipynb\" target=\"_parent\"><img src=\"https://colab.research.google.com/assets/colab-badge.svg\" alt=\"Open In Colab\"/></a>"
      ]
    },
    {
      "id": "e1d6166e",
      "cell_type": "markdown",
      "source": [
        "# 퀵 정렬 성능 비교 보고서 초안\n",
        "\n",
        "## 개요\n",
        "\n",
        "### I. 퀵 정렬을 구현하는 3가지 방법\n",
        "\n",
        "- **In-place**\n",
        "  - 호어(Hoare) 방식 – 메모리 추가 사용 ❌\n",
        "  - 로무토(Lomuto) 방식 – 메모리 추가 사용 ❌\n",
        "- **Not in-place**\n",
        "  - 그 외의 방법 – 메모리 추가 사용 ⭕\n",
        "\n",
        "### II. 퀵 정렬의 성능을 높이는 방법\n",
        "\n",
        "- 3-median 방법\n",
        "- Dual pivot 방법\n",
        "- 3분할(three-way partitioning) 방법\n",
        "\n",
        "---\n",
        "\n",
        "## 본론\n",
        "\n",
        "- I. 호어, 로무토 방법의 시간 측정\n",
        "- II. 확률 기댓값 기반 3-median의 성능 분석\n",
        "- III. Dual pivot의 시간복잡도 `k × log₃(n)` 분석\n"
      ],
      "metadata": {
        "id": "e1d6166e"
      }
    },
    {
      "id": "6d490732",
      "cell_type": "markdown",
      "source": [
        "## 재귀 구조 예시 코드 (Python)"
      ],
      "metadata": {
        "id": "6d490732"
      }
    },
    {
      "id": "79a655f9",
      "cell_type": "code",
      "metadata": {
        "id": "79a655f9"
      },
      "execution_count": 2,
      "source": [
        "def swap(a, b):\n",
        "    array[a], array[b] = array[b], array[a]\n",
        "\n",
        "def quicksort(start, end, partition):\n",
        "    if start >= end:\n",
        "        return\n",
        "    pivot = partition(start, end)\n",
        "    quicksort(start, pivot - 1, partition)\n",
        "    quicksort(pivot + 1, end, partition)"
      ],
      "outputs": []
    },
    {
      "id": "41abea73",
      "cell_type": "markdown",
      "source": [
        "## 퀵 정렬 구현 - Hoare 방식"
      ],
      "metadata": {
        "id": "41abea73"
      }
    },
    {
      "id": "5e535fd1",
      "cell_type": "markdown",
      "source": [
        "### 오름차순 정렬"
      ],
      "metadata": {
        "id": "5e535fd1"
      }
    },
    {
      "id": "24826bfb",
      "cell_type": "code",
      "metadata": {
        "id": "24826bfb"
      },
      "execution_count": 3,
      "source": [
        "def hoare_asc(start, end):\n",
        "    left = start\n",
        "    right = end\n",
        "    pivot = start\n",
        "    while True:\n",
        "        while array[left] <= array[pivot] and left < right:\n",
        "            left += 1\n",
        "        while array[right] >= array[pivot] and left < right:\n",
        "            right -= 1\n",
        "        if left >= right:\n",
        "            break\n",
        "        swap(left, right)\n",
        "    if array[pivot] > array[right]:\n",
        "        swap(right, pivot)\n",
        "    return right"
      ],
      "outputs": []
    },
    {
      "id": "0f3184c9",
      "cell_type": "markdown",
      "source": [
        "### 내림차순 정렬"
      ],
      "metadata": {
        "id": "0f3184c9"
      }
    },
    {
      "id": "cdceeb1c",
      "cell_type": "code",
      "metadata": {
        "id": "cdceeb1c"
      },
      "execution_count": 4,
      "source": [
        "def hoare_desc(start, end):\n",
        "    left = start\n",
        "    right = end\n",
        "    pivot = end\n",
        "    while True:\n",
        "        while array[left] >= array[pivot] and left < right:\n",
        "            left += 1\n",
        "        while array[right] <= array[pivot] and left < right:\n",
        "            right -= 1\n",
        "        if left >= right:\n",
        "            break\n",
        "        swap(left, right)\n",
        "    if array[pivot] > array[left]:\n",
        "        swap(left, pivot)\n",
        "    return left"
      ],
      "outputs": []
    },
    {
      "id": "89056e05",
      "cell_type": "markdown",
      "source": [
        "## 퀵 정렬 구현 - Lomuto 방식"
      ],
      "metadata": {
        "id": "89056e05"
      }
    },
    {
      "id": "314d6aa3",
      "cell_type": "markdown",
      "source": [
        "### 오름차순 정렬"
      ],
      "metadata": {
        "id": "314d6aa3"
      }
    },
    {
      "id": "46686e38",
      "cell_type": "code",
      "metadata": {
        "id": "46686e38"
      },
      "execution_count": 5,
      "source": [
        "def lomuto_asc(start, end):\n",
        "    i = start\n",
        "    j = start\n",
        "    pivot = start\n",
        "    while j <= end - 1:\n",
        "        j += 1\n",
        "        while i < j and array[i] < array[pivot]:\n",
        "            i += 1\n",
        "        if array[j] < array[pivot]:\n",
        "            swap(i, j)\n",
        "    return i"
      ],
      "outputs": []
    },
    {
      "id": "ff436a03",
      "cell_type": "markdown",
      "source": [
        "### 내림차순 정렬"
      ],
      "metadata": {
        "id": "ff436a03"
      }
    },
    {
      "id": "1f3db69b",
      "cell_type": "code",
      "metadata": {
        "id": "1f3db69b"
      },
      "execution_count": 6,
      "source": [
        "def lomuto_desc(start, end):\n",
        "    i = start\n",
        "    j = start\n",
        "    pivot = start\n",
        "    while j <= end - 1:\n",
        "        j += 1\n",
        "        while i < j and array[i] > array[pivot]:\n",
        "            i += 1\n",
        "        if array[j] > array[pivot]:\n",
        "            swap(i, j)\n",
        "    return i"
      ],
      "outputs": []
    },
    {
      "id": "e9e1b604",
      "cell_type": "markdown",
      "source": [
        "## Hoare vs Lomuto 시간 비교 시각화"
      ],
      "metadata": {
        "id": "e9e1b604"
      }
    },
    {
      "id": "a3a6f46d",
      "cell_type": "code",
      "metadata": {
        "colab": {
          "base_uri": "https://localhost:8080/",
          "height": 472
        },
        "id": "a3a6f46d",
        "outputId": "6ba82a83-a154-41b1-9cfb-a5e9d430c4ec"
      },
      "execution_count": 7,
      "source": [
        "import time\n",
        "import random\n",
        "import matplotlib.pyplot as plt\n",
        "\n",
        "# Global array\n",
        "array = []\n",
        "\n",
        "def swap(a, b):\n",
        "    array[a], array[b] = array[b], array[a]\n",
        "\n",
        "def quicksort(start, end, partition):\n",
        "    if start >= end:\n",
        "        return\n",
        "    pivot = partition(start, end)\n",
        "    quicksort(start, pivot - 1, partition)\n",
        "    quicksort(pivot + 1, end, partition)\n",
        "\n",
        "def hoare_asc(start, end):\n",
        "    left = start\n",
        "    right = end\n",
        "    pivot = start\n",
        "    while True:\n",
        "        while array[left] <= array[pivot] and left < right:\n",
        "            left += 1\n",
        "        while array[right] >= array[pivot] and left < right:\n",
        "            right -= 1\n",
        "        if left >= right:\n",
        "            break\n",
        "        swap(left, right)\n",
        "    if array[pivot] > array[right]:\n",
        "        swap(right, pivot)\n",
        "    return right\n",
        "\n",
        "def lomuto_asc(start, end):\n",
        "    pivot = end\n",
        "    i = start - 1\n",
        "    for j in range(start, end):\n",
        "        if array[j] <= array[pivot]:\n",
        "            i += 1\n",
        "            swap(i, j)\n",
        "    swap(i + 1, pivot)\n",
        "    return i + 1\n",
        "\n",
        "def generate_array(size):\n",
        "    return [random.randint(0, 100000) for _ in range(size)]\n",
        "\n",
        "def run_sort(sort_func, arr):\n",
        "    global array\n",
        "    array = arr.copy()\n",
        "    start_time = time.time()\n",
        "    quicksort(0, len(array) - 1, sort_func)\n",
        "    return time.time() - start_time\n",
        "\n",
        "sizes = [1000, 2000, 4000, 8000, 16000]\n",
        "hoare_times = []\n",
        "lomuto_times = []\n",
        "\n",
        "for size in sizes:\n",
        "    sample = generate_array(size)\n",
        "    hoare_times.append(run_sort(hoare_asc, sample))\n",
        "    lomuto_times.append(run_sort(lomuto_asc, sample))\n",
        "\n",
        "plt.plot(sizes, hoare_times, label='Hoare')\n",
        "plt.plot(sizes, lomuto_times, label='Lomuto')\n",
        "plt.xlabel('Array Size')\n",
        "plt.ylabel('Execution Time (seconds)')\n",
        "plt.title('Performance Comparison: Hoare vs Lomuto QuickSort')\n",
        "plt.legend()\n",
        "plt.grid(True)\n",
        "plt.show()"
      ],
      "outputs": [
        {
          "output_type": "display_data",
          "data": {
            "text/plain": [
              "<Figure size 640x480 with 1 Axes>"
            ],
            "image/png": "[encoded data removed]"
          },
          "metadata": {}
        }
      ]
    }
  ]
}